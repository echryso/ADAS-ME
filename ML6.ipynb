{
 "cells": [
  {
   "cell_type": "code",
   "execution_count": 1,
   "metadata": {
    "collapsed": true
   },
   "outputs": [],
   "source": [
    "import pandas as pd\n",
    "from sklearn import datasets # To Get iris dataset\n",
    "from sklearn import svm   # To fit the svm classifier\n",
    "import numpy as np\n",
    "import matplotlib.pyplot as plt            # To visuvalizing the data\n",
    "\n",
    "dataset = pd.read_csv(\"../evich/Documents/IMET_ADASM/WP4/Data from Georgoula/thermal_v04new.csv\",header=None) #Read data from CSV datafile"
   ]
  },
  {
   "cell_type": "code",
   "execution_count": 2,
   "metadata": {
    "collapsed": true
   },
   "outputs": [],
   "source": [
    "baseline_1= dataset[(dataset[0]==6) & (dataset[1]==0)]# 1st individual data from baseline\n",
    "test_1= dataset[(dataset[0]==6) & (dataset[1]!=0)]# 1st induvidual all time intervals"
   ]
  },
  {
   "cell_type": "code",
   "execution_count": 3,
   "metadata": {},
   "outputs": [
    {
     "name": "stdout",
     "output_type": "stream",
     "text": [
      "20\n",
      "60\n"
     ]
    }
   ],
   "source": [
    "print(len(baseline_1))\n",
    "print(len(test_1))\n",
    "k1=len(baseline_1)+len(test_1)"
   ]
  },
  {
   "cell_type": "code",
   "execution_count": 4,
   "metadata": {
    "collapsed": true
   },
   "outputs": [],
   "source": [
    "baseline_all= dataset[(dataset[0]!=6) & (dataset[1]==0)]# 2-8th individual data from baseline\n",
    "test_all= dataset[(dataset[0]!=6) & (dataset[1]!=0)]# 1st induvidual all time intervals"
   ]
  },
  {
   "cell_type": "code",
   "execution_count": 5,
   "metadata": {},
   "outputs": [
    {
     "data": {
      "text/plain": [
       "640"
      ]
     },
     "execution_count": 5,
     "metadata": {},
     "output_type": "execute_result"
    }
   ],
   "source": [
    "len(baseline_all)+len(test_all)"
   ]
  },
  {
   "cell_type": "code",
   "execution_count": 6,
   "metadata": {
    "collapsed": true
   },
   "outputs": [],
   "source": [
    "new_dataset=pd.concat([baseline_all,test_all]) # dataset that will be used to run classifiers\n",
    "test_dataset=pd.concat([baseline_1,test_1]) # the 1st idividual will be kept out \n",
    "k=len(new_dataset)"
   ]
  },
  {
   "cell_type": "code",
   "execution_count": 7,
   "metadata": {
    "collapsed": true
   },
   "outputs": [],
   "source": [
    "features=[new_dataset[i] for i in range(3,33)]\n",
    "features=np.array(features)\n",
    "features=features.reshape(30,k)\n",
    "features=features.transpose()"
   ]
  },
  {
   "cell_type": "code",
   "execution_count": 8,
   "metadata": {
    "collapsed": true
   },
   "outputs": [],
   "source": [
    "TestData=[test_dataset[i]for i in range(3,33)]\n",
    "TestData=np.array(TestData)\n",
    "TestData=TestData.reshape(30,k1)\n",
    "TestData=TestData.transpose()"
   ]
  },
  {
   "cell_type": "code",
   "execution_count": 9,
   "metadata": {
    "collapsed": true
   },
   "outputs": [],
   "source": [
    "X=features\n",
    "X_new=TestData"
   ]
  },
  {
   "cell_type": "code",
   "execution_count": 10,
   "metadata": {
    "collapsed": true
   },
   "outputs": [],
   "source": [
    "target1=np.array(list(new_dataset[33]))#nielsen moisture\n",
    "target2=np.array(list(new_dataset[34]))#thermal comfort\n",
    "target3=np.array(list(new_dataset[35]))#general comfort\n",
    "target4=np.array(list(new_dataset[36]))#skin wetedness\n",
    "target5=np.array(list(new_dataset[37]))#borg [only 2 stages]\n",
    "target6=np.array(list(new_dataset[38]))#thermal sensation\n"
   ]
  },
  {
   "cell_type": "code",
   "execution_count": 11,
   "metadata": {},
   "outputs": [
    {
     "name": "stdout",
     "output_type": "stream",
     "text": [
      "----------------------------------------------------------\n",
      "-------Description of Alternative Labeling---------------- \n",
      "Nielsen Moisture Labeling |     Thermal Comfort Labeling\n",
      "-------------------------- ----------------------------\n",
      "Lebel=1 :          320         Lebel=1 : 100\n",
      "Lebel=2 :          320         Lebel=2 : 240\n",
      "Lebel=3 :          0           Lebel=3 : 300\n",
      "General Comfort Labeling |     Skin Wetedness Labeling\n",
      "-------------------------- ----------------------------\n",
      "Lebel=1 :          180         Lebel=1 : 480\n",
      "Lebel=2 :          340         Lebel=2 : 140\n",
      "Lebel=3 :          120           Lebel=3 : 20\n",
      "Borg Exertion Labeling |     Thermal Sensation Labeling\n",
      "-------------------------- ----------------------------\n",
      "Lebel=1 :          480         Lebel=1 : 380\n",
      "Lebel=2 :          160         Lebel=2 : 220\n",
      "Lebel=3 :          0           Lebel=3 : 40\n"
     ]
    }
   ],
   "source": [
    "print(\"----------------------------------------------------------\")\n",
    "print('-------Description of Alternative Labeling---------------- ')\n",
    "#nielsen moisture & Thermal Comfort\n",
    "print( 'Nielsen Moisture Labeling | ','   Thermal Comfort Labeling')\n",
    "print('--------------------------','----------------------------')\n",
    "print('Lebel=1 :         ',len(new_dataset[33][new_dataset[33]==1]),'        Lebel=1 :',len(new_dataset[34][new_dataset[34]==1]))\n",
    "print('Lebel=2 :         ',len(new_dataset[33][new_dataset[33]==2]),'        Lebel=2 :',len(new_dataset[34][new_dataset[34]==2]))\n",
    "print('Lebel=3 :         ',len(new_dataset[33][new_dataset[33]==3]),'          Lebel=3 :',len(new_dataset[34][new_dataset[34]==3]))\n",
    "#General Comfort Labeling & Skin Wetedness Labeling\n",
    "print( 'General Comfort Labeling | ','   Skin Wetedness Labeling')\n",
    "print('--------------------------','----------------------------')\n",
    "print('Lebel=1 :         ',len(new_dataset[35][new_dataset[35]==1]),'        Lebel=1 :',len(new_dataset[36][new_dataset[36]==1]))\n",
    "print('Lebel=2 :         ',len(new_dataset[35][new_dataset[35]==2]),'        Lebel=2 :',len(new_dataset[36][new_dataset[36]==2]))\n",
    "print('Lebel=3 :         ',len(new_dataset[35][new_dataset[35]==3]),'          Lebel=3 :',len(new_dataset[36][new_dataset[36]==3]))\n",
    "#Borg Exertion & Thermal Sensation\n",
    "print( 'Borg Exertion Labeling | ','   Thermal Sensation Labeling')\n",
    "print('--------------------------','----------------------------')\n",
    "print('Lebel=1 :         ',len(new_dataset[37][new_dataset[37]==1]),'        Lebel=1 :',len(new_dataset[38][new_dataset[38]==1]))\n",
    "print('Lebel=2 :         ',len(new_dataset[37][new_dataset[37]==2]),'        Lebel=2 :',len(new_dataset[38][new_dataset[38]==2]))\n",
    "print('Lebel=3 :         ',len(new_dataset[37][new_dataset[37]==3]),'          Lebel=3 :',len(new_dataset[38][new_dataset[38]==3]))\n"
   ]
  },
  {
   "cell_type": "code",
   "execution_count": 12,
   "metadata": {},
   "outputs": [
    {
     "name": "stdout",
     "output_type": "stream",
     "text": [
      "Description of alternative Labeling\n",
      "in the one individual kept out of for validation\n",
      "--------------------------\n",
      "--------------------------\n",
      "Nielsen Moisture Labeling\n",
      "--------------------------\n",
      "Lebel=1 :          20\n",
      "Lebel=2 :          60\n",
      "Lebel=3 :          0\n",
      "Thermal Comfort Labeling\n",
      "--------------------------\n",
      "Lebel=1 :          40\n",
      "Lebel=2 :          20\n",
      "Lebel=3 :          20\n",
      "General Comfort Labeling\n",
      "--------------------------\n",
      "Lebel=1 :          20\n",
      "Lebel=2 :          20\n",
      "Lebel=3 :          40\n",
      "Skin Wetedness Labeling\n",
      "--------------------------\n",
      "Lebel=1 :          40\n",
      "Lebel=2 :          40\n",
      "Lebel=3 :          0\n",
      "Borg Exertion Labeling\n",
      "--------------------------\n",
      "Lebel=1 :          80\n",
      "Lebel=2 :          0\n",
      "Lebel=3 :          0\n",
      "Thermal Sensation Labeling\n",
      "--------------------------\n",
      "Lebel=1 :          20\n",
      "Lebel=2 :          20\n",
      "Lebel=3 :          40\n"
     ]
    }
   ],
   "source": [
    "#nielsen moisture\n",
    "print('Description of alternative Labeling') \n",
    "print('in the one individual kept out of for validation')\n",
    "print('--------------------------')\n",
    "print('--------------------------')\n",
    "print( 'Nielsen Moisture Labeling')\n",
    "print('--------------------------')\n",
    "print('Lebel=1 :         ',len(test_dataset[33][test_dataset[33]==1]))\n",
    "print('Lebel=2 :         ',len(test_dataset[33][test_dataset[33]==2]))\n",
    "print('Lebel=3 :         ',len(test_dataset[33][test_dataset[33]==3]))\n",
    "#Thermal Comfort\n",
    "print( 'Thermal Comfort Labeling')\n",
    "print('--------------------------')\n",
    "print('Lebel=1 :         ',len(test_dataset[34][test_dataset[34]==1]))\n",
    "print('Lebel=2 :         ',len(test_dataset[34][test_dataset[34]==2]))\n",
    "print('Lebel=3 :         ',len(test_dataset[34][test_dataset[34]==3]))\n",
    "#General Comfort \n",
    "print( 'General Comfort Labeling')\n",
    "print('--------------------------')\n",
    "print('Lebel=1 :         ',len(test_dataset[35][test_dataset[35]==1]))\n",
    "print('Lebel=2 :         ',len(test_dataset[35][test_dataset[35]==2]))\n",
    "print('Lebel=3 :         ',len(test_dataset[35][test_dataset[35]==3]))\n",
    "#Skin Wetedness\n",
    "print( 'Skin Wetedness Labeling')\n",
    "print('--------------------------')\n",
    "print('Lebel=1 :         ',len(test_dataset[36][test_dataset[36]==1]))\n",
    "print('Lebel=2 :         ',len(test_dataset[36][test_dataset[36]==2]))\n",
    "print('Lebel=3 :         ',len(test_dataset[36][test_dataset[36]==3]))\n",
    "#Borg Exertion\n",
    "print( 'Borg Exertion Labeling')\n",
    "print('--------------------------')\n",
    "print('Lebel=1 :         ',len(test_dataset[37][test_dataset[37]==1]))\n",
    "print('Lebel=2 :         ',len(test_dataset[37][test_dataset[37]==2]))\n",
    "print('Lebel=3 :         ',len(test_dataset[37][test_dataset[37]==3]))\n",
    "#Thermal Sensation\n",
    "print( 'Thermal Sensation Labeling')\n",
    "print('--------------------------')\n",
    "print('Lebel=1 :         ',len(test_dataset[38][test_dataset[38]==1]))\n",
    "print('Lebel=2 :         ',len(test_dataset[38][test_dataset[38]==2]))\n",
    "print('Lebel=3 :         ',len(test_dataset[38][test_dataset[38]==3]))"
   ]
  },
  {
   "cell_type": "code",
   "execution_count": 13,
   "metadata": {},
   "outputs": [
    {
     "name": "stdout",
     "output_type": "stream",
     "text": [
      "----------Random Forest---------\n",
      "Score Test data: 0.9688 |Accuracy Score: 0.7375\n",
      "\n",
      "----------Gradient Boosting---------\n",
      "Score Test data: 0.9576 |Accuracy Score: 0.7500\n",
      "\n",
      "----------Linear SVM---------\n",
      "Score Test data: 0.8996 |Accuracy Score: 0.8250\n",
      "\n",
      "----------SVM regularization parameter---------\n",
      "Score Test data: 0.8237 |Accuracy Score: 0.9375\n",
      "\n",
      "----------RBF SVM---------\n",
      "Score Test data: 0.7746 |Accuracy Score: 0.2625\n",
      "\n",
      "----------SVC with polynomial (degree 3) kernel---------\n",
      "Score Test data: 0.9866 |Accuracy Score: 0.6750\n",
      "\n",
      "----------SVC with sigmoid (degree 4) kernel---------\n",
      "Score Test data: 0.4911 |Accuracy Score: 0.2500\n",
      "\n",
      "----------Random Forest---------\n",
      "Score Test data: 0.9933 |Accuracy Score: 0.7500\n",
      "\n",
      "----------Gradient Boosting---------\n",
      "Score Test data: 0.9888 |Accuracy Score: 0.7500\n",
      "\n",
      "----------Linear SVM---------\n",
      "Score Test data: 0.9464 |Accuracy Score: 0.4375\n",
      "\n",
      "----------SVM regularization parameter---------\n",
      "Score Test data: 0.7522 |Accuracy Score: 0.5250\n",
      "\n",
      "----------RBF SVM---------\n",
      "Score Test data: 0.6763 |Accuracy Score: 0.2500\n",
      "\n",
      "----------SVC with polynomial (degree 3) kernel---------\n",
      "Score Test data: 0.9375 |Accuracy Score: 0.4375\n",
      "\n",
      "----------SVC with sigmoid (degree 4) kernel---------\n",
      "Score Test data: 0.4531 |Accuracy Score: 0.2500\n",
      "\n",
      "----------Random Forest---------\n",
      "Score Test data: 0.9777 |Accuracy Score: 0.7500\n",
      "\n",
      "----------Gradient Boosting---------\n",
      "Score Test data: 0.9933 |Accuracy Score: 0.5000\n",
      "\n",
      "----------Linear SVM---------\n",
      "Score Test data: 0.9643 |Accuracy Score: 0.8375\n",
      "\n",
      "----------SVM regularization parameter---------\n",
      "Score Test data: 0.7924 |Accuracy Score: 0.7500\n",
      "\n",
      "----------RBF SVM---------\n",
      "Score Test data: 0.7210 |Accuracy Score: 0.2500\n",
      "\n",
      "----------SVC with polynomial (degree 3) kernel---------\n",
      "Score Test data: 0.9554 |Accuracy Score: 0.7500\n",
      "\n",
      "----------SVC with sigmoid (degree 4) kernel---------\n",
      "Score Test data: 0.5469 |Accuracy Score: 0.2500\n",
      "\n",
      "----------Random Forest---------\n",
      "Score Test data: 0.9531 |Accuracy Score: 0.9875\n",
      "\n",
      "----------Gradient Boosting---------\n",
      "Score Test data: 1.0000 |Accuracy Score: 0.7500\n",
      "\n",
      "----------Linear SVM---------\n",
      "Score Test data: 1.0000 |Accuracy Score: 0.7000\n",
      "\n",
      "----------SVM regularization parameter---------\n",
      "Score Test data: 0.9420 |Accuracy Score: 0.9750\n",
      "\n",
      "----------RBF SVM---------\n",
      "Score Test data: 0.8237 |Accuracy Score: 0.5000\n",
      "\n",
      "----------SVC with polynomial (degree 3) kernel---------\n",
      "Score Test data: 1.0000 |Accuracy Score: 0.7500\n",
      "\n",
      "----------SVC with sigmoid (degree 4) kernel---------\n",
      "Score Test data: 0.7366 |Accuracy Score: 0.5000\n",
      "\n",
      "----------Random Forest---------\n",
      "Score Test data: 0.9821 |Accuracy Score: 0.2500\n",
      "\n",
      "----------Gradient Boosting---------\n",
      "Score Test data: 0.9732 |Accuracy Score: 0.0000\n",
      "\n",
      "----------Linear SVM---------\n",
      "Score Test data: 0.8371 |Accuracy Score: 0.3625\n",
      "\n",
      "----------SVM regularization parameter---------\n",
      "Score Test data: 0.8460 |Accuracy Score: 0.1625\n",
      "\n",
      "----------RBF SVM---------\n",
      "Score Test data: 0.8504 |Accuracy Score: 1.0000\n",
      "\n",
      "----------SVC with polynomial (degree 3) kernel---------\n",
      "Score Test data: 0.9732 |Accuracy Score: 0.3750\n",
      "\n",
      "----------SVC with sigmoid (degree 4) kernel---------\n",
      "Score Test data: 0.7388 |Accuracy Score: 1.0000\n",
      "\n",
      "----------Random Forest---------\n",
      "Score Test data: 0.9821 |Accuracy Score: 0.7375\n",
      "\n",
      "----------Gradient Boosting---------\n",
      "Score Test data: 0.9821 |Accuracy Score: 0.5000\n",
      "\n",
      "----------Linear SVM---------\n",
      "Score Test data: 0.9286 |Accuracy Score: 0.5875\n",
      "\n",
      "----------SVM regularization parameter---------\n",
      "Score Test data: 0.8728 |Accuracy Score: 1.0000\n",
      "\n",
      "----------RBF SVM---------\n",
      "Score Test data: 0.7411 |Accuracy Score: 0.2500\n",
      "\n",
      "----------SVC with polynomial (degree 3) kernel---------\n",
      "Score Test data: 0.9844 |Accuracy Score: 0.7500\n",
      "\n",
      "----------SVC with sigmoid (degree 4) kernel---------\n",
      "Score Test data: 0.5915 |Accuracy Score: 0.2500\n",
      "\n"
     ]
    }
   ],
   "source": [
    "import numpy as np\n",
    "from sklearn.metrics import accuracy_score\n",
    "from sklearn.metrics import cohen_kappa_score\n",
    "from sklearn.ensemble import RandomForestClassifier\n",
    "from sklearn import ensemble\n",
    "from sklearn.model_selection import train_test_split\n",
    "\n",
    "T=['target%d'%(i+1) for i in range(6)]\n",
    "for i in range(6):\n",
    "    y=eval(T[i])\n",
    "    X_train, X_test, y_train, y_test = train_test_split(X[:, :], y, test_size=0.7, random_state=0)\n",
    "\n",
    "\n",
    "    # Fit classifier with out-of-bag estimates\n",
    "    params = {'n_estimators': 1200, 'max_depth': 3, 'subsample': 0.5,\n",
    "              'learning_rate': 0.01, 'min_samples_leaf': 1, 'random_state': 3}\n",
    "    C=1\n",
    "    names = [ \"Random Forest\",\"Gradient Boosting\",\"Linear SVM\",\"SVM regularization parameter\",\n",
    "             \"RBF SVM\", \"SVC with polynomial (degree 3) kernel\",\"SVC with sigmoid (degree 4) kernel\"]\n",
    "    classifiers = [RandomForestClassifier(n_estimators=10),ensemble.GradientBoostingClassifier(**params),\n",
    "                   svm.SVC(kernel='linear', C=1),svm.LinearSVC(C=1),svm.SVC(kernel='rbf', gamma=0.7, C=C),\n",
    "                   svm.SVC(kernel='poly', degree=3, C=C),svm.SVC(kernel='sigmoid',gamma =4,C=C)]\n",
    "    for name, clf in zip(names, classifiers):\n",
    "            clf.fit(X_train, y_train)\n",
    "            score = clf.score(X_test, y_test)\n",
    "\n",
    "            print(\"----------\"+name+\"---------\")\n",
    "            #print(\"Score \"+ name + \": {:.4f}\".format(score)) \n",
    "            prediction=clf.predict(TestData)\n",
    "            y_pred=prediction\n",
    "            y_true =test_dataset[33+i]\n",
    "            #print(\"--------------------------\")\n",
    "            print(\"Score Test data: {:.4f}\".format(score),\"|Accuracy Score: {:.4f}\".format(accuracy_score(y_true, y_pred)))\n",
    "           # print(\"Cohen Kappa Score: {:.4f}\".format(cohen_kappa_score(y_true, y_pred)))  \n",
    "            print(\"\")"
   ]
  },
  {
   "cell_type": "code",
   "execution_count": 17,
   "metadata": {},
   "outputs": [
    {
     "name": "stdout",
     "output_type": "stream",
     "text": [
      "target1\n",
      "0.7375\n",
      "0.7500\n",
      "0.8250\n",
      "0.8375\n",
      "0.2625\n",
      "0.6750\n",
      "0.2500\n",
      "target2\n",
      "0.6250\n",
      "0.7500\n",
      "0.4375\n",
      "0.7125\n",
      "0.2500\n",
      "0.4375\n",
      "0.2500\n",
      "target3\n",
      "0.7375\n",
      "0.5000\n",
      "0.8375\n",
      "0.7500\n",
      "0.2500\n",
      "0.7500\n",
      "0.2500\n",
      "target4\n",
      "0.6500\n",
      "0.7500\n",
      "0.7000\n",
      "1.0000\n",
      "0.5000\n",
      "0.7500\n",
      "0.5000\n",
      "target5\n",
      "0.2500\n",
      "0.0000\n",
      "0.3625\n",
      "0.8000\n",
      "1.0000\n",
      "0.3750\n",
      "1.0000\n",
      "target6\n",
      "0.7125\n",
      "0.5000\n",
      "0.5875\n",
      "0.7500\n",
      "0.2500\n",
      "0.7500\n",
      "0.2500\n"
     ]
    }
   ],
   "source": [
    "import numpy as np\n",
    "from sklearn.metrics import accuracy_score\n",
    "from sklearn.metrics import cohen_kappa_score\n",
    "from sklearn.ensemble import RandomForestClassifier\n",
    "from sklearn import ensemble\n",
    "from sklearn.model_selection import train_test_split\n",
    "\n",
    "T=['target%d'%(i+1) for i in range(6)]\n",
    "for i in range(6):\n",
    "    y=eval(T[i])\n",
    "    X_train, X_test, y_train, y_test = train_test_split(X[:, :], y, test_size=0.7, random_state=0)\n",
    "\n",
    "\n",
    "    # Fit classifier with out-of-bag estimates\n",
    "    params = {'n_estimators': 1200, 'max_depth': 3, 'subsample': 0.5,\n",
    "              'learning_rate': 0.01, 'min_samples_leaf': 1, 'random_state': 3}\n",
    "    C=1\n",
    "    names = [ \"Random Forest\",\"Gradient Boosting\",\"Linear SVM\",\"SVM regularization parameter\",\n",
    "             \"RBF SVM\", \"SVC with polynomial (degree 3) kernel\",\"SVC with sigmoid (degree 4) kernel\"]\n",
    "    classifiers = [RandomForestClassifier(n_estimators=10),ensemble.GradientBoostingClassifier(**params),\n",
    "                   svm.SVC(kernel='linear', C=1),svm.LinearSVC(C=1),svm.SVC(kernel='rbf', gamma=0.7, C=C),\n",
    "                   svm.SVC(kernel='poly', degree=3, C=C),svm.SVC(kernel='sigmoid',gamma =4,C=C)]\n",
    "    print(T[i])\n",
    "    for name, clf in zip(names, classifiers):\n",
    "            clf.fit(X_train, y_train)\n",
    "            score = clf.score(X_test, y_test)\n",
    "            \n",
    "            #print(name)\n",
    "            #print(\"Score \"+ name + \": {:.4f}\".format(score)) \n",
    "            prediction=clf.predict(TestData)\n",
    "            y_pred=prediction\n",
    "            y_true =test_dataset[33+i]\n",
    "            #print(\"--------------------------\")\n",
    "            #print(score)\n",
    "        \n",
    "            #print(\"Score Test data: {:.4f}\".format(score),\"|Accuracy Score: {:.4f}\".format(accuracy_score(y_true, y_pred)))\n",
    "           # print(\"Cohen Kappa Score: {:.4f}\".format(cohen_kappa_score(y_true, y_pred)))  \n",
    "            print(\"{:.4f}\".format(accuracy_score(y_true, y_pred)))"
   ]
  },
  {
   "cell_type": "code",
   "execution_count": 41,
   "metadata": {},
   "outputs": [
    {
     "name": "stdout",
     "output_type": "stream",
     "text": [
      "['Q1', 'Q2', 'Q3', 'Q4', 'Q5', 'Q6']\n"
     ]
    }
   ],
   "source": []
  },
  {
   "cell_type": "code",
   "execution_count": 44,
   "metadata": {},
   "outputs": [
    {
     "name": "stdout",
     "output_type": "stream",
     "text": [
      "33\n",
      "34\n",
      "35\n",
      "36\n",
      "37\n",
      "38\n"
     ]
    }
   ],
   "source": []
  },
  {
   "cell_type": "code",
   "execution_count": null,
   "metadata": {
    "collapsed": true
   },
   "outputs": [],
   "source": []
  }
 ],
 "metadata": {
  "kernelspec": {
   "display_name": "Python 3",
   "language": "python",
   "name": "python3"
  },
  "language_info": {
   "codemirror_mode": {
    "name": "ipython",
    "version": 3
   },
   "file_extension": ".py",
   "mimetype": "text/x-python",
   "name": "python",
   "nbconvert_exporter": "python",
   "pygments_lexer": "ipython3",
   "version": "3.6.1"
  }
 },
 "nbformat": 4,
 "nbformat_minor": 2
}
